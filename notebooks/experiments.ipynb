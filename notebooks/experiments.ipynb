{
 "cells": [
  {
   "cell_type": "code",
   "execution_count": 1,
   "metadata": {},
   "outputs": [],
   "source": [
    "# import dependencies\n",
    "import os\n",
    "import seaborn as sns\n",
    "from datetime import datetime\n",
    "from typing import List\n",
    "\n",
    "import numpy as np\n",
    "import pandas as pd\n",
    "import matplotlib.pyplot as plt\n",
    "from statsmodels.graphics.tsaplots import plot_acf, plot_pacf"
   ]
  },
  {
   "cell_type": "code",
   "execution_count": null,
   "metadata": {},
   "outputs": [],
   "source": [
    "START = datetime(2016, 1, 1)\n",
    "END = datetime(2021, 2, 16)\n",
    "BUCKET = 1  # day"
   ]
  },
  {
   "cell_type": "code",
   "execution_count": null,
   "metadata": {},
   "outputs": [],
   "source": [
    "# Load data\n",
    "global_markets_volumes_path = \"data/VOLUMES.csv\"\n",
    "vix_path = \"data/VIX.csv\"\n",
    "sp500_path = \"data/SP500.csv\"\n",
    "gold_path= \"data/GOLD.csv\"\n",
    "euro_usd_path = \"data/EURUSD.csv\"\n",
    "bonds_path = \"data/10YBONDYIELDS.csv\""
   ]
  },
  {
   "cell_type": "code",
   "execution_count": null,
   "metadata": {},
   "outputs": [],
   "source": [
    "def load_data(path: str, target:str) -> pd.DataFrame:\n",
    "    assert target in [\"gm\", \"vix\", \"sp500\", \"gold\", \"eurusd\", \"bonds\"], f\"Invaid target: {target}\"\n",
    "\n",
    "    root = os.path.dirname(os.getcwd())\n",
    "    df = pd.read_csv(f\"{root}/{path}\")\n",
    "\n",
    "    # rename columns to lower case\n",
    "    df.columns = map(str.lower, df.columns)\n",
    "    if target == \"gm\":\n",
    "        index = \"business date\"\n",
    "    else:\n",
    "        index = \"date\"\n",
    "    new_columns = [\"date\"] + [column + f\"_{target}\" for column in df.columns if column != index]\n",
    "    # Add _target to columns except Date\n",
    "    df.rename(columns=dict(zip(df.columns, new_columns)),inplace=True)\n",
    "    # Remove space from columns\n",
    "    df.columns = df.columns.str.replace(\" \", \"_\")\n",
    "    return df.set_index(\"date\")\n",
    "\n",
    "def join_dfs(df_list: List) -> pd.DataFrame:\n",
    "    pdf = df_list[0]\n",
    "    for df in df_list[1:]:\n",
    "        pdf = pdf.join(df, how=\"left\")\n",
    "    assert len(pdf) == len(df_list[0])\n",
    "    return pdf"
   ]
  },
  {
   "cell_type": "code",
   "execution_count": null,
   "metadata": {},
   "outputs": [],
   "source": [
    "gm_volumes = load_data(global_markets_volumes_path, \"gm\")\n",
    "vix = load_data(vix_path, \"vix\")\n",
    "sp500 = load_data(sp500_path, \"sp500\")\n",
    "gold = load_data(gold_path, \"gold\")\n",
    "euro_usd = load_data(euro_usd_path, \"eurusd\")\n",
    "bonds = load_data(bonds_path, \"bonds\")"
   ]
  },
  {
   "cell_type": "code",
   "execution_count": null,
   "metadata": {},
   "outputs": [],
   "source": [
    "all_dfs = [gm_volumes, vix, sp500, gold, euro_usd, bonds]\n",
    "all_data = join_dfs(all_dfs)\n",
    "all_data"
   ]
  },
  {
   "cell_type": "code",
   "execution_count": null,
   "metadata": {},
   "outputs": [],
   "source": [
    "# Remove bonds\n",
    "data_no_bond_vol = all_data.drop(columns=\"volume_bonds\")\n",
    "data_no_bond_vol"
   ]
  },
  {
   "cell_type": "code",
   "execution_count": null,
   "metadata": {},
   "outputs": [],
   "source": []
  },
  {
   "cell_type": "code",
   "execution_count": null,
   "metadata": {},
   "outputs": [],
   "source": []
  },
  {
   "cell_type": "code",
   "execution_count": null,
   "metadata": {},
   "outputs": [],
   "source": []
  },
  {
   "cell_type": "code",
   "execution_count": null,
   "metadata": {},
   "outputs": [],
   "source": []
  },
  {
   "cell_type": "code",
   "execution_count": null,
   "metadata": {},
   "outputs": [],
   "source": []
  },
  {
   "cell_type": "code",
   "execution_count": null,
   "metadata": {},
   "outputs": [],
   "source": []
  },
  {
   "cell_type": "code",
   "execution_count": null,
   "metadata": {},
   "outputs": [],
   "source": []
  },
  {
   "cell_type": "code",
   "execution_count": null,
   "metadata": {},
   "outputs": [],
   "source": []
  },
  {
   "cell_type": "code",
   "execution_count": null,
   "metadata": {},
   "outputs": [],
   "source": []
  },
  {
   "cell_type": "code",
   "execution_count": null,
   "metadata": {},
   "outputs": [],
   "source": []
  },
  {
   "cell_type": "code",
   "execution_count": null,
   "metadata": {},
   "outputs": [],
   "source": []
  },
  {
   "cell_type": "code",
   "execution_count": null,
   "metadata": {},
   "outputs": [],
   "source": []
  },
  {
   "cell_type": "code",
   "execution_count": null,
   "metadata": {},
   "outputs": [],
   "source": []
  },
  {
   "cell_type": "code",
   "execution_count": null,
   "metadata": {},
   "outputs": [],
   "source": []
  },
  {
   "cell_type": "code",
   "execution_count": null,
   "metadata": {},
   "outputs": [],
   "source": []
  }
 ],
 "metadata": {
  "kernelspec": {
   "display_name": "venv",
   "language": "python",
   "name": "python3"
  },
  "language_info": {
   "codemirror_mode": {
    "name": "ipython",
    "version": 3
   },
   "file_extension": ".py",
   "mimetype": "text/x-python",
   "name": "python",
   "nbconvert_exporter": "python",
   "pygments_lexer": "ipython3",
   "version": "3.10.13"
  },
  "orig_nbformat": 4
 },
 "nbformat": 4,
 "nbformat_minor": 2
}
