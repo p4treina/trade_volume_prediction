{
 "cells": [
  {
   "cell_type": "code",
   "execution_count": null,
   "metadata": {},
   "outputs": [],
   "source": [
    "# import dependencies\n",
    "from datetime import datetime\n",
    "\n",
    "import numpy as np\n",
    "import pandas as pd\n",
    "import matplotlib.pyplot as plt\n",
    "from statsmodels.graphics.tsaplots import plot_acf, plot_pacf\n"
   ]
  },
  {
   "cell_type": "code",
   "execution_count": null,
   "metadata": {},
   "outputs": [],
   "source": [
    "START = datetime(2016, 1, 1)\n",
    "END = datetime(2021, 2, 16)\n",
    "BUCKET = 1  # day\n",
    "\n",
    "COLUMNS = [\"VOLUME_fut\", \"VOLUME_etf\", \"VOLUME_opt\"] # change\n",
    "TARGET = \"VOLUME_fut_target\" # change"
   ]
  },
  {
   "cell_type": "code",
   "execution_count": null,
   "metadata": {},
   "outputs": [],
   "source": [
    "# Load data\n",
    "global_markets_volumes_path = \"./data/VOLUMES.csv\"\n",
    "vix_path = \"./data/VIX.csv\"\n",
    "sp500_path = \"./data/SP500.csv\"\n",
    "gold_path= \"./data/GOLD.csv\"\n",
    "euro_usd_path = \"./data/EURUSD.csv\"\n",
    "bonds_path = \"./data/10YBONDYIELDS.csv\""
   ]
  },
  {
   "cell_type": "code",
   "execution_count": null,
   "metadata": {},
   "outputs": [],
   "source": [
    "def load_data(path: str, target:str) -> pd.DataFrame:\n",
    "    df = pd.read_csv('./data/etf_nq.csv', index_col='Date')\n",
    "    # rename columns to lower case\n",
    "    df.columns = map(str.lower, df.columns)\n",
    "    new_columns = [column + f\"_{target}\" for column in df.columns if column != 'date']\n",
    "    # Add _target to columns except Date\n",
    "    df.rename(columns=dict(zip(df.columns[1:], new_columns)),inplace=True)\n",
    "    # Remove space from columns\n",
    "    df.columns = df.columns.str.replace(\" \", \"_\")\n",
    "    return df"
   ]
  },
  {
   "cell_type": "code",
   "execution_count": null,
   "metadata": {},
   "outputs": [],
   "source": []
  },
  {
   "cell_type": "code",
   "execution_count": null,
   "metadata": {},
   "outputs": [],
   "source": []
  },
  {
   "cell_type": "code",
   "execution_count": null,
   "metadata": {},
   "outputs": [],
   "source": []
  },
  {
   "cell_type": "code",
   "execution_count": null,
   "metadata": {},
   "outputs": [],
   "source": []
  },
  {
   "cell_type": "code",
   "execution_count": null,
   "metadata": {},
   "outputs": [],
   "source": []
  },
  {
   "cell_type": "code",
   "execution_count": null,
   "metadata": {},
   "outputs": [],
   "source": []
  },
  {
   "cell_type": "code",
   "execution_count": null,
   "metadata": {},
   "outputs": [],
   "source": []
  },
  {
   "cell_type": "code",
   "execution_count": null,
   "metadata": {},
   "outputs": [],
   "source": []
  },
  {
   "cell_type": "code",
   "execution_count": null,
   "metadata": {},
   "outputs": [],
   "source": []
  },
  {
   "cell_type": "code",
   "execution_count": null,
   "metadata": {},
   "outputs": [],
   "source": []
  }
 ],
 "metadata": {
  "kernelspec": {
   "display_name": "venv",
   "language": "python",
   "name": "python3"
  },
  "language_info": {
   "name": "python",
   "version": "3.11.5"
  },
  "orig_nbformat": 4
 },
 "nbformat": 4,
 "nbformat_minor": 2
}
